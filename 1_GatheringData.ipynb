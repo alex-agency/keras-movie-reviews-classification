{
  "nbformat": 4,
  "nbformat_minor": 0,
  "metadata": {
    "colab": {
      "name": "1-GatheringData.ipynb",
      "version": "0.3.2",
      "views": {},
      "default_view": {},
      "provenance": []
    },
    "kernelspec": {
      "name": "python3",
      "display_name": "Python 3"
    },
    "accelerator": "GPU"
  },
  "cells": [
    {
      "metadata": {
        "id": "HI7wKvVceuKT",
        "colab_type": "text"
      },
      "cell_type": "markdown",
      "source": [
        "### NOTE:\n",
        "Basicaly this notebook prepared to use within **Google Colab**: https://colab.research.google.com/. \n",
        "\n",
        "\n",
        "The Google Colabatory has **free Tesla K80 GPU** and already prepared to develop deep learning applications.\n",
        "\n",
        "First time opens this notebook, do not forget to enable **Python 3** runtime and **GPU** accelerator in Google Colab **Notebook Settings**. \n"
      ]
    },
    {
      "metadata": {
        "id": "PTstknFGegQK",
        "colab_type": "text"
      },
      "cell_type": "markdown",
      "source": [
        "### Setup Project\n",
        "\n"
      ]
    },
    {
      "metadata": {
        "id": "ewsloDfJee5f",
        "colab_type": "code",
        "colab": {
          "autoexec": {
            "startup": false,
            "wait_interval": 0
          },
          "output_extras": [
            {
              "item_id": 1
            }
          ],
          "base_uri": "https://localhost:8080/",
          "height": 35
        },
        "outputId": "39ebf47f-decf-4d1c-ee70-1affb1131ec2",
        "executionInfo": {
          "status": "ok",
          "timestamp": 1522242099369,
          "user_tz": -180,
          "elapsed": 1944,
          "user": {
            "displayName": "Alex Z",
            "photoUrl": "https://lh3.googleusercontent.com/a/default-user=s128",
            "userId": "110711877726297594950"
          }
        }
      },
      "cell_type": "code",
      "source": [
        "PROJECT_HOME = '/content/keras-movie-reviews-classification'\n",
        "\n",
        "import os.path\n",
        "if not os.path.exists(PROJECT_HOME):\n",
        "  os.makedirs(PROJECT_HOME)\n",
        "os.chdir(PROJECT_HOME)\n",
        "\n",
        "!pwd"
      ],
      "execution_count": 27,
      "outputs": [
        {
          "output_type": "stream",
          "text": [
            "/content/keras-movie-reviews-classification\r\n"
          ],
          "name": "stdout"
        }
      ]
    },
    {
      "metadata": {
        "id": "mrVKxQJsX1Tb",
        "colab_type": "text"
      },
      "cell_type": "markdown",
      "source": [
        "### Large Movie Review Dataset\n",
        "This is a dataset for binary sentiment classification containing a set of 25,000 highly polar movie reviews for training, and 25,000 for testing. There is additional unlabeled data for use as well. Raw text and already processed bag of words formats are provided.\n",
        "\n",
        "Link: http://ai.stanford.edu/~amaas/data/sentiment/"
      ]
    },
    {
      "metadata": {
        "id": "7xuJ5gm0XPKy",
        "colab_type": "code",
        "colab": {
          "autoexec": {
            "startup": false,
            "wait_interval": 0
          },
          "output_extras": [
            {
              "item_id": 1
            }
          ],
          "base_uri": "https://localhost:8080/",
          "height": 159
        },
        "outputId": "ce39c3cc-164b-41c4-995a-d6415d4ed12d",
        "executionInfo": {
          "status": "ok",
          "timestamp": 1522242101377,
          "user_tz": -180,
          "elapsed": 1461,
          "user": {
            "displayName": "Alex Z",
            "photoUrl": "https://lh3.googleusercontent.com/a/default-user=s128",
            "userId": "110711877726297594950"
          }
        }
      },
      "cell_type": "code",
      "source": [
        "# Downloading and extract archive\n",
        "import os.path\n",
        "if not os.path.exists(\"input/aclImdb\"):\n",
        "    import urllib.request, tarfile\n",
        "    print(\"Downloading...\")\n",
        "    response = urllib.request.urlopen(\"http://ai.stanford.edu/~amaas/data/sentiment/aclImdb_v1.tar.gz\")\n",
        "    tarfile.open(fileobj = response, mode = \"r|*\").extractall(\"input\")\n",
        "    \n",
        "!ls -la input/aclImdb"
      ],
      "execution_count": 28,
      "outputs": [
        {
          "output_type": "stream",
          "text": [
            "total 1732\r\n",
            "drwxr-xr-x 4 7297 1000   4096 Jun 26  2011 .\r\n",
            "drwxr-xr-x 3 root root   4096 Mar 28 12:57 ..\r\n",
            "-rw-r--r-- 1 7297 1000 903029 Jun 11  2011 imdbEr.txt\r\n",
            "-rw-r--r-- 1 7297 1000 845980 Apr 12  2011 imdb.vocab\r\n",
            "-rw-r--r-- 1 7297 1000   4037 Jun 26  2011 README\r\n",
            "drwxr-xr-x 4 7297 1000   4096 Apr 12  2011 test\r\n",
            "drwxr-xr-x 5 7297 1000   4096 Jun 26  2011 train\r\n"
          ],
          "name": "stdout"
        }
      ]
    },
    {
      "metadata": {
        "id": "5KXa7I1GkvVy",
        "colab_type": "code",
        "colab": {
          "autoexec": {
            "startup": false,
            "wait_interval": 0
          },
          "output_extras": [
            {
              "item_id": 5
            }
          ],
          "base_uri": "https://localhost:8080/",
          "height": 106
        },
        "outputId": "b2cfb0a4-8d05-4aff-a896-09236728bf5d",
        "executionInfo": {
          "status": "ok",
          "timestamp": 1522242103947,
          "user_tz": -180,
          "elapsed": 2548,
          "user": {
            "displayName": "Alex Z",
            "photoUrl": "https://lh3.googleusercontent.com/a/default-user=s128",
            "userId": "110711877726297594950"
          }
        }
      },
      "cell_type": "code",
      "source": [
        "# Extract text from files\n",
        "from glob import glob\n",
        "def extract(files):\n",
        "    list = []\n",
        "    for filename in glob(files):\n",
        "        with open(filename, \"rb\") as f:\n",
        "            list.append ({\n",
        "                \"review\": f.read().decode(\"utf-8\").replace(\"<br />\", \"\\n\")\n",
        "            })\n",
        "    return list\n",
        "  \n",
        "# Get the Train and Test data of Positive and Negative reviews\n",
        "print(\"Loading...\")\n",
        "train_pos_data = extract(\"input/aclImdb/train/pos/*.txt\")\n",
        "print(\"positive reviews for train:\", len(train_pos_data))\n",
        "train_neg_data = extract(\"input/aclImdb/train/neg/*.txt\")\n",
        "print(\"negative reviews for train:\", len(train_neg_data))\n",
        "test_pos_data = extract(\"input/aclImdb/test/pos/*.txt\")\n",
        "print(\"positive reviews for test: \", len(test_pos_data))\n",
        "test_neg_data = extract(\"input/aclImdb/test/neg/*.txt\")\n",
        "print(\"negative reviews for test: \", len(test_neg_data))"
      ],
      "execution_count": 29,
      "outputs": [
        {
          "output_type": "stream",
          "text": [
            "Loading...\n",
            "positive reviews for train: 12500\n",
            "negative reviews for train: 12500\n",
            "positive reviews for test:  12500\n",
            "negative reviews for test:  12500\n"
          ],
          "name": "stdout"
        }
      ]
    },
    {
      "metadata": {
        "id": "EV_EVJpwo1be",
        "colab_type": "code",
        "colab": {
          "autoexec": {
            "startup": false,
            "wait_interval": 0
          },
          "output_extras": [
            {
              "item_id": 1
            }
          ],
          "base_uri": "https://localhost:8080/",
          "height": 141
        },
        "outputId": "89526d76-8877-431d-8922-0093ac4a8faa",
        "executionInfo": {
          "status": "ok",
          "timestamp": 1522242104507,
          "user_tz": -180,
          "elapsed": 541,
          "user": {
            "displayName": "Alex Z",
            "photoUrl": "https://lh3.googleusercontent.com/a/default-user=s128",
            "userId": "110711877726297594950"
          }
        }
      },
      "cell_type": "code",
      "source": [
        "import pandas as pd\n",
        "\n",
        "# Create Data frames where positive reviews marked as 1 and negative as 0.\n",
        "train_pos_df = pd.DataFrame(train_pos_data)\n",
        "train_pos_df[\"feedback\"] = 'positive'\n",
        "train_neg_df = pd.DataFrame(train_neg_data)\n",
        "train_neg_df[\"feedback\"] = 'negative'\n",
        "\n",
        "test_pos_df = pd.DataFrame(test_pos_data)\n",
        "test_pos_df[\"feedback\"] = 'positive'\n",
        "test_neg_df = pd.DataFrame(test_neg_data)\n",
        "test_neg_df[\"feedback\"] = 'negative'\n",
        "\n",
        "# Combine all reviews\n",
        "reviews_df = pd.concat([train_pos_df, train_neg_df, test_pos_df, test_neg_df])\n",
        "\n",
        "print(\"Review Frame:\")\n",
        "print(reviews_df.head())"
      ],
      "execution_count": 30,
      "outputs": [
        {
          "output_type": "stream",
          "text": [
            "Review Frame:\n",
            "                                              review  feedback\n",
            "0  I laughed so hard during this movie my face hu...  positive\n",
            "1  Seeing as Keifer Sutherland plays my favorite ...  positive\n",
            "2  If you enjoy Cleese & all the British 'Pythone...  positive\n",
            "3  I really liked this movie. Of course the idea ...  positive\n",
            "4  I have been eagerly anticipating the opening o...  positive\n"
          ],
          "name": "stdout"
        }
      ]
    },
    {
      "metadata": {
        "id": "7MKcaxkipKON",
        "colab_type": "code",
        "colab": {
          "autoexec": {
            "startup": false,
            "wait_interval": 0
          },
          "output_extras": [
            {
              "item_id": 1
            }
          ],
          "base_uri": "https://localhost:8080/",
          "height": 106
        },
        "outputId": "77b2c360-57d4-4a9a-f21e-805457fe9c1d",
        "executionInfo": {
          "status": "ok",
          "timestamp": 1522242114603,
          "user_tz": -180,
          "elapsed": 9954,
          "user": {
            "displayName": "Alex Z",
            "photoUrl": "https://lh3.googleusercontent.com/a/default-user=s128",
            "userId": "110711877726297594950"
          }
        }
      },
      "cell_type": "code",
      "source": [
        "# Export Data frame to tsv file\n",
        "reviews_df.to_csv(\"input/reviews.tsv.bz2\", index=False, sep='\\t', \n",
        "                  encoding='utf-8', compression='bz2')\n",
        "!ls -la input"
      ],
      "execution_count": 31,
      "outputs": [
        {
          "output_type": "stream",
          "text": [
            "total 18932\r\n",
            "drwxr-xr-x 3 root root     4096 Mar 28 12:57 .\r\n",
            "drwxr-xr-x 3 root root     4096 Mar 28 12:52 ..\r\n",
            "drwxr-xr-x 4 7297 1000     4096 Jun 26  2011 aclImdb\r\n",
            "-rw-r--r-- 1 root root 19372046 Mar 28 13:01 reviews.tsv.bz2\r\n"
          ],
          "name": "stdout"
        }
      ]
    },
    {
      "metadata": {
        "id": "IIITIQklrE3B",
        "colab_type": "text"
      },
      "cell_type": "markdown",
      "source": [
        "### Downloading files to your local file system\n",
        "\n",
        "It will invoke a browser download of the files to your local computer."
      ]
    },
    {
      "metadata": {
        "id": "o2bSd7pJqhUB",
        "colab_type": "code",
        "colab": {
          "autoexec": {
            "startup": false,
            "wait_interval": 0
          }
        }
      },
      "cell_type": "code",
      "source": [
        "from google.colab import files\n",
        "# Download file\n",
        "files.download('input/reviews.tsv.bz2')"
      ],
      "execution_count": 0,
      "outputs": []
    }
  ]
}