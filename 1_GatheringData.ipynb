{
  "nbformat": 4,
  "nbformat_minor": 0,
  "metadata": {
    "colab": {
      "name": "1-GatheringData.ipynb",
      "version": "0.3.2",
      "views": {},
      "default_view": {},
      "provenance": []
    },
    "kernelspec": {
      "name": "python3",
      "display_name": "Python 3"
    },
    "accelerator": "GPU"
  },
  "cells": [
    {
      "metadata": {
        "id": "HRrwRMzBDcVN",
        "colab_type": "text"
      },
      "cell_type": "markdown",
      "source": [
        "### NOTE:\n",
        "Basicaly this notebook prepared to use within **Google Colab**: https://colab.research.google.com/. \n",
        "\n",
        "The Google Colabatory has **free Tesla K80 GPU** and already prepared to develop deep learning applications.\n",
        "\n",
        "First time opens this notebook, do not forget to enable **Python 3** runtime and **GPU** accelerator in Google Colab **Notebook Settings**. \n"
      ]
    },
    {
      "metadata": {
        "id": "PTstknFGegQK",
        "colab_type": "text"
      },
      "cell_type": "markdown",
      "source": [
        "### Setup Project\n",
        "Create workspace and change directory."
      ]
    },
    {
      "metadata": {
        "id": "ewsloDfJee5f",
        "colab_type": "code",
        "colab": {
          "autoexec": {
            "startup": false,
            "wait_interval": 0
          },
          "base_uri": "https://localhost:8080/",
          "height": 34
        },
        "outputId": "852cd911-32da-4607-911b-ae9b42aad31a",
        "executionInfo": {
          "status": "ok",
          "timestamp": 1523634650370,
          "user_tz": -180,
          "elapsed": 1851,
          "user": {
            "displayName": "Alex Z",
            "photoUrl": "https://lh3.googleusercontent.com/a/default-user=s128",
            "userId": "110711877726297594950"
          }
        }
      },
      "cell_type": "code",
      "source": [
        "PROJECT_HOME = '/content/keras-movie-reviews-classification'\n",
        "\n",
        "import os.path\n",
        "if not os.path.exists(PROJECT_HOME):\n",
        "  os.makedirs(PROJECT_HOME)\n",
        "os.chdir(PROJECT_HOME)\n",
        "\n",
        "!pwd"
      ],
      "execution_count": 1,
      "outputs": [
        {
          "output_type": "stream",
          "text": [
            "/content/keras-movie-reviews-classification\r\n"
          ],
          "name": "stdout"
        }
      ]
    },
    {
      "metadata": {
        "id": "mrVKxQJsX1Tb",
        "colab_type": "text"
      },
      "cell_type": "markdown",
      "source": [
        "### Large Movie Review Dataset\n",
        "This is a dataset for binary sentiment classification containing a set of 25,000 highly polar movie reviews for training, and 25,000 for testing. There is additional unlabeled data for use as well. Raw text and already processed bag of words formats are provided.\n",
        "\n",
        "Link: http://ai.stanford.edu/~amaas/data/sentiment/"
      ]
    },
    {
      "metadata": {
        "id": "7xuJ5gm0XPKy",
        "colab_type": "code",
        "colab": {
          "autoexec": {
            "startup": false,
            "wait_interval": 0
          },
          "base_uri": "https://localhost:8080/",
          "height": 172
        },
        "outputId": "083a7de2-c647-488a-b1ec-ed9c7fb1c5ac",
        "executionInfo": {
          "status": "ok",
          "timestamp": 1523634691269,
          "user_tz": -180,
          "elapsed": 35676,
          "user": {
            "displayName": "Alex Z",
            "photoUrl": "https://lh3.googleusercontent.com/a/default-user=s128",
            "userId": "110711877726297594950"
          }
        }
      },
      "cell_type": "code",
      "source": [
        "# Downloading and extract archive\n",
        "import os.path\n",
        "if not os.path.exists(\"input/aclImdb\"):\n",
        "    import urllib.request, tarfile\n",
        "    print(\"Downloading...\")\n",
        "    response = urllib.request.urlopen(\"http://ai.stanford.edu/~amaas/data/sentiment/aclImdb_v1.tar.gz\")\n",
        "    tarfile.open(fileobj = response, mode = \"r|*\").extractall(\"input\")\n",
        "    \n",
        "!ls -la input/aclImdb"
      ],
      "execution_count": 2,
      "outputs": [
        {
          "output_type": "stream",
          "text": [
            "Downloading...\n",
            "total 1732\n",
            "drwxr-xr-x 4 7297 1000   4096 Jun 26  2011 .\n",
            "drwxr-xr-x 3 root root   4096 Apr 13 15:50 ..\n",
            "-rw-r--r-- 1 7297 1000 903029 Jun 11  2011 imdbEr.txt\n",
            "-rw-r--r-- 1 7297 1000 845980 Apr 12  2011 imdb.vocab\n",
            "-rw-r--r-- 1 7297 1000   4037 Jun 26  2011 README\n",
            "drwxr-xr-x 4 7297 1000   4096 Apr 12  2011 test\n",
            "drwxr-xr-x 5 7297 1000   4096 Jun 26  2011 train\n"
          ],
          "name": "stdout"
        }
      ]
    },
    {
      "metadata": {
        "id": "5KXa7I1GkvVy",
        "colab_type": "code",
        "colab": {
          "autoexec": {
            "startup": false,
            "wait_interval": 0
          },
          "base_uri": "https://localhost:8080/",
          "height": 103
        },
        "outputId": "f5e26582-63df-4884-c022-d3381458cf9b",
        "executionInfo": {
          "status": "ok",
          "timestamp": 1523634698859,
          "user_tz": -180,
          "elapsed": 2639,
          "user": {
            "displayName": "Alex Z",
            "photoUrl": "https://lh3.googleusercontent.com/a/default-user=s128",
            "userId": "110711877726297594950"
          }
        }
      },
      "cell_type": "code",
      "source": [
        "# Extract text from files\n",
        "from glob import glob\n",
        "def extract(files):\n",
        "    list = []\n",
        "    for filename in glob(files):\n",
        "        with open(filename, \"rb\") as f:\n",
        "            list.append ({\n",
        "                \"review\": f.read().decode(\"utf-8\").replace(\"<br />\", \"\\n\")\n",
        "            })\n",
        "    return list\n",
        "  \n",
        "# Get the Train and Test data of Positive and Negative reviews\n",
        "print(\"Loading...\")\n",
        "train_pos_data = extract(\"input/aclImdb/train/pos/*.txt\")\n",
        "print(\"positive reviews for train:\", len(train_pos_data))\n",
        "train_neg_data = extract(\"input/aclImdb/train/neg/*.txt\")\n",
        "print(\"negative reviews for train:\", len(train_neg_data))\n",
        "test_pos_data = extract(\"input/aclImdb/test/pos/*.txt\")\n",
        "print(\"positive reviews for test: \", len(test_pos_data))\n",
        "test_neg_data = extract(\"input/aclImdb/test/neg/*.txt\")\n",
        "print(\"negative reviews for test: \", len(test_neg_data))"
      ],
      "execution_count": 3,
      "outputs": [
        {
          "output_type": "stream",
          "text": [
            "Loading...\n",
            "positive reviews for train: 12500\n",
            "negative reviews for train: 12500\n",
            "positive reviews for test:  12500\n",
            "negative reviews for test:  12500\n"
          ],
          "name": "stdout"
        }
      ]
    },
    {
      "metadata": {
        "id": "EV_EVJpwo1be",
        "colab_type": "code",
        "colab": {
          "autoexec": {
            "startup": false,
            "wait_interval": 0
          },
          "base_uri": "https://localhost:8080/",
          "height": 138
        },
        "outputId": "99b5ec41-b47c-4671-b274-c005a9b9dd6d",
        "executionInfo": {
          "status": "ok",
          "timestamp": 1523634702987,
          "user_tz": -180,
          "elapsed": 526,
          "user": {
            "displayName": "Alex Z",
            "photoUrl": "https://lh3.googleusercontent.com/a/default-user=s128",
            "userId": "110711877726297594950"
          }
        }
      },
      "cell_type": "code",
      "source": [
        "import pandas as pd\n",
        "\n",
        "# Create Data frames for positive and negative reviews\n",
        "train_pos_df = pd.DataFrame(train_pos_data)\n",
        "train_pos_df[\"feedback\"] = 'positive'\n",
        "train_neg_df = pd.DataFrame(train_neg_data)\n",
        "train_neg_df[\"feedback\"] = 'negative'\n",
        "\n",
        "test_pos_df = pd.DataFrame(test_pos_data)\n",
        "test_pos_df[\"feedback\"] = 'positive'\n",
        "test_neg_df = pd.DataFrame(test_neg_data)\n",
        "test_neg_df[\"feedback\"] = 'negative'\n",
        "\n",
        "# Combine all reviews together\n",
        "reviews_df = pd.concat([train_pos_df, train_neg_df, test_pos_df, test_neg_df])\n",
        "\n",
        "print(\"Review Frame:\")\n",
        "print(reviews_df.head())"
      ],
      "execution_count": 4,
      "outputs": [
        {
          "output_type": "stream",
          "text": [
            "Review Frame:\n",
            "                                              review  feedback\n",
            "0  well \"Wayne's World\" is long gone and the year...  positive\n",
            "1  This film is one of the best of all time, cert...  positive\n",
            "2  \"The Case of the Scorpion's Tail\" has all the ...  positive\n",
            "3  A famous orchestra conductor, Daniel Dareus, s...  positive\n",
            "4  This is a beautiful, rich, and very well-execu...  positive\n"
          ],
          "name": "stdout"
        }
      ]
    },
    {
      "metadata": {
        "id": "f28BthGJO6GJ",
        "colab_type": "text"
      },
      "cell_type": "markdown",
      "source": [
        "### Export result\n",
        "Store data into compressed csv file with tab separator."
      ]
    },
    {
      "metadata": {
        "id": "7MKcaxkipKON",
        "colab_type": "code",
        "colab": {
          "autoexec": {
            "startup": false,
            "wait_interval": 0
          },
          "base_uri": "https://localhost:8080/",
          "height": 103
        },
        "outputId": "5f9a8f13-0456-48b3-c6a1-4c3671fa7dae",
        "executionInfo": {
          "status": "ok",
          "timestamp": 1523634718441,
          "user_tz": -180,
          "elapsed": 10350,
          "user": {
            "displayName": "Alex Z",
            "photoUrl": "https://lh3.googleusercontent.com/a/default-user=s128",
            "userId": "110711877726297594950"
          }
        }
      },
      "cell_type": "code",
      "source": [
        "# Export Data frames to tsv file\n",
        "reviews_df.to_csv(\"input/reviews.tsv.bz2\", index=False, sep='\\t', \n",
        "                  encoding='utf-8', compression='bz2')\n",
        "!ls -la input"
      ],
      "execution_count": 5,
      "outputs": [
        {
          "output_type": "stream",
          "text": [
            "total 18932\r\n",
            "drwxr-xr-x 3 root root     4096 Apr 13 15:51 .\r\n",
            "drwxr-xr-x 3 root root     4096 Apr 13 15:50 ..\r\n",
            "drwxr-xr-x 4 7297 1000     4096 Jun 26  2011 aclImdb\r\n",
            "-rw-r--r-- 1 root root 19371416 Apr 13 15:51 reviews.tsv.bz2\r\n"
          ],
          "name": "stdout"
        }
      ]
    },
    {
      "metadata": {
        "id": "IIITIQklrE3B",
        "colab_type": "text"
      },
      "cell_type": "markdown",
      "source": [
        "### Downloading file to your local file system\n",
        "\n",
        "It will invoke a browser download of the file to your local computer."
      ]
    },
    {
      "metadata": {
        "id": "o2bSd7pJqhUB",
        "colab_type": "code",
        "colab": {
          "autoexec": {
            "startup": false,
            "wait_interval": 0
          }
        }
      },
      "cell_type": "code",
      "source": [
        "from google.colab import files\n",
        "# Download file\n",
        "files.download('input/reviews.tsv.bz2')"
      ],
      "execution_count": 0,
      "outputs": []
    }
  ]
}