{
  "nbformat": 4,
  "nbformat_minor": 0,
  "metadata": {
    "colab": {
      "name": "2-DataPreparation.ipynb",
      "version": "0.3.2",
      "views": {},
      "default_view": {},
      "provenance": []
    },
    "kernelspec": {
      "name": "python3",
      "display_name": "Python 3"
    },
    "accelerator": "GPU"
  },
  "cells": [
    {
      "metadata": {
        "id": "HI7wKvVceuKT",
        "colab_type": "text"
      },
      "cell_type": "markdown",
      "source": [
        "### NOTE:\n",
        "Basicaly this notebook prepared to use within **Google Colab**: https://colab.research.google.com/. \n",
        "\n",
        "\n",
        "The Google Colabatory has **free Tesla K80 GPU** and already prepared to develop deep learning applications.\n",
        "\n",
        "First time opens this notebook, do not forget to enable **Python 3** runtime and **GPU** accelerator in Google Colab **Notebook Settings**. \n"
      ]
    },
    {
      "metadata": {
        "id": "PTstknFGegQK",
        "colab_type": "text"
      },
      "cell_type": "markdown",
      "source": [
        "### Setup Project\n",
        "Create workspace\n"
      ]
    },
    {
      "metadata": {
        "id": "ewsloDfJee5f",
        "colab_type": "code",
        "colab": {
          "autoexec": {
            "startup": false,
            "wait_interval": 0
          },
          "output_extras": [
            {
              "item_id": 1
            }
          ],
          "base_uri": "https://localhost:8080/",
          "height": 34
        },
        "outputId": "f5d8db5e-4314-46e1-fe2f-51c8b79b550c",
        "executionInfo": {
          "status": "ok",
          "timestamp": 1522469487881,
          "user_tz": -180,
          "elapsed": 1636,
          "user": {
            "displayName": "Alex Z",
            "photoUrl": "https://lh3.googleusercontent.com/a/default-user=s128",
            "userId": "110711877726297594950"
          }
        }
      },
      "cell_type": "code",
      "source": [
        "PROJECT_HOME = '/content/keras-movie-reviews-classification'\n",
        "\n",
        "import os.path\n",
        "if not os.path.exists(PROJECT_HOME):\n",
        "  os.makedirs(PROJECT_HOME)\n",
        "os.chdir(PROJECT_HOME)\n",
        "\n",
        "!pwd"
      ],
      "execution_count": 1,
      "outputs": [
        {
          "output_type": "stream",
          "text": [
            "/content/keras-movie-reviews-classification\r\n"
          ],
          "name": "stdout"
        }
      ]
    },
    {
      "metadata": {
        "id": "L2RCaiwbmGbN",
        "colab_type": "text"
      },
      "cell_type": "markdown",
      "source": [
        "### Import Project\n",
        "Import project from GitHub to created workspace."
      ]
    },
    {
      "metadata": {
        "id": "ZSe5_mzWl8ma",
        "colab_type": "code",
        "colab": {
          "autoexec": {
            "startup": false,
            "wait_interval": 0
          },
          "output_extras": [
            {
              "item_id": 8
            }
          ],
          "base_uri": "https://localhost:8080/",
          "height": 328
        },
        "outputId": "30bb32c3-87a8-448b-deb5-dd495a4f2a51",
        "executionInfo": {
          "status": "ok",
          "timestamp": 1522469520469,
          "user_tz": -180,
          "elapsed": 7596,
          "user": {
            "displayName": "Alex Z",
            "photoUrl": "https://lh3.googleusercontent.com/a/default-user=s128",
            "userId": "110711877726297594950"
          }
        }
      },
      "cell_type": "code",
      "source": [
        "!git init .\n",
        "!git remote remove origin\n",
        "!git remote add -t \\* -f origin https://github.com/alex-agency/keras-movie-reviews-classification.git\n",
        "!git checkout origin/master\n",
        "\n",
        "!ls -la"
      ],
      "execution_count": 2,
      "outputs": [
        {
          "output_type": "stream",
          "text": [
            "Initialized empty Git repository in /content/keras-movie-reviews-classification/.git/\n",
            "fatal: No such remote: origin\n",
            "Updating origin\n",
            "remote: Counting objects: 9, done.\u001b[K\n",
            "remote: Compressing objects: 100% (8/8), done.\u001b[K\n",
            "remote: Total 9 (delta 0), reused 5 (delta 0), pack-reused 0\u001b[K\n",
            "Unpacking objects: 100% (9/9), done.\n",
            "From https://github.com/alex-agency/keras-movie-reviews-classification\n",
            " * [new branch]      master     -> origin/master\n",
            "error: The following untracked working tree files would be overwritten by checkout:\n",
            "\tinput/reviews.tsv.bz2\n",
            "Please move or remove them before you switch branches.\n",
            "Aborting\n",
            "total 16\n",
            "drwxr-xr-x 4 root root 4096 Mar 31 04:11 .\n",
            "drwxr-xr-x 1 root root 4096 Mar 31 04:08 ..\n",
            "drwxr-xr-x 8 root root 4096 Mar 31 04:11 .git\n",
            "drwxr-xr-x 3 root root 4096 Mar 31 04:08 input\n"
          ],
          "name": "stdout"
        }
      ]
    },
    {
      "metadata": {
        "id": "XUrEe1jsnNMd",
        "colab_type": "text"
      },
      "cell_type": "markdown",
      "source": [
        "### Load Movie Review Text Data\n",
        "Create Data Frame from compressed csv file."
      ]
    },
    {
      "metadata": {
        "id": "7MKcaxkipKON",
        "colab_type": "code",
        "colab": {
          "autoexec": {
            "startup": false,
            "wait_interval": 0
          },
          "output_extras": [
            {
              "item_id": 1
            }
          ],
          "base_uri": "https://localhost:8080/",
          "height": 138
        },
        "outputId": "f2465539-4e0a-4f90-a765-b50cab734f97",
        "executionInfo": {
          "status": "ok",
          "timestamp": 1522469785701,
          "user_tz": -180,
          "elapsed": 4319,
          "user": {
            "displayName": "Alex Z",
            "photoUrl": "https://lh3.googleusercontent.com/a/default-user=s128",
            "userId": "110711877726297594950"
          }
        }
      },
      "cell_type": "code",
      "source": [
        "import sklearn.utils\n",
        "import pandas as pd\n",
        "\n",
        "# Import Data frame from compressed tsv file\n",
        "reviews_df = pd.read_csv(\"input/reviews.tsv.bz2\", sep='\\t', \n",
        "                         encoding='utf-8', compression='bz2')\n",
        "# Shuffle all reviews\n",
        "reviews_df = sklearn.utils.shuffle(reviews_df)\n",
        "\n",
        "print(\"Review Frame:\")\n",
        "print(reviews_df.head())"
      ],
      "execution_count": 3,
      "outputs": [
        {
          "output_type": "stream",
          "text": [
            "Review Frame:\n",
            "                                                  review  feedback\n",
            "24970  I'll be honest- the reason I rented this movie...  negative\n",
            "159    Well, What can I say, other than these people ...  positive\n",
            "11996  'The second beginning' as it's title explains,...  positive\n",
            "2965   This has to be the all time best computer anim...  positive\n",
            "24877  The movie is plain bad. Simply awful. The stri...  negative\n"
          ],
          "name": "stdout"
        }
      ]
    },
    {
      "metadata": {
        "id": "FVPlfpw9rt6C",
        "colab_type": "text"
      },
      "cell_type": "markdown",
      "source": [
        "### Load Keras with TensorFlow backend\n",
        "Keras is a high-level neural networks API capable of running on top of TensorFlow."
      ]
    },
    {
      "metadata": {
        "id": "rcQa7qPNwxdp",
        "colab_type": "code",
        "colab": {
          "autoexec": {
            "startup": false,
            "wait_interval": 0
          },
          "output_extras": [
            {
              "item_id": 1
            }
          ],
          "base_uri": "https://localhost:8080/",
          "height": 34
        },
        "outputId": "27ae5419-7e50-4559-b410-a476946dc9c6",
        "executionInfo": {
          "status": "ok",
          "timestamp": 1522469811319,
          "user_tz": -180,
          "elapsed": 7200,
          "user": {
            "displayName": "Alex Z",
            "photoUrl": "https://lh3.googleusercontent.com/a/default-user=s128",
            "userId": "110711877726297594950"
          }
        }
      },
      "cell_type": "code",
      "source": [
        "# Load Keras libraries\n",
        "from keras.preprocessing.text import Tokenizer\n",
        "from keras.preprocessing.sequence import pad_sequences\n",
        "from keras.utils import to_categorical"
      ],
      "execution_count": 4,
      "outputs": [
        {
          "output_type": "stream",
          "text": [
            "Using TensorFlow backend.\n"
          ],
          "name": "stderr"
        }
      ]
    },
    {
      "metadata": {
        "id": "y3c1agXxPD5H",
        "colab_type": "text"
      },
      "cell_type": "markdown",
      "source": [
        "### Data transformation\n",
        "Original data is in text format. In order to be able to feed it into a neural network it needs to be converted into tensors first.\n",
        "\n",
        "The first step is tokenizing the reviews. The tokenizer converts each review into a sequence of integers with each integer representing the index of the word in a dictionary. Next the sequences are padded so all of them have the same length."
      ]
    },
    {
      "metadata": {
        "id": "WdFKdkk5ndy4",
        "colab_type": "code",
        "colab": {
          "autoexec": {
            "startup": false,
            "wait_interval": 0
          },
          "output_extras": [
            {
              "item_id": 2
            }
          ],
          "base_uri": "https://localhost:8080/",
          "height": 52
        },
        "outputId": "970f4f03-e7f7-4cad-e4a2-581cc76db1e7",
        "executionInfo": {
          "status": "ok",
          "timestamp": 1522470195530,
          "user_tz": -180,
          "elapsed": 17677,
          "user": {
            "displayName": "Alex Z",
            "photoUrl": "https://lh3.googleusercontent.com/a/default-user=s128",
            "userId": "110711877726297594950"
          }
        }
      },
      "cell_type": "code",
      "source": [
        "reviews = reviews_df['review']\n",
        "\n",
        "# The words are indexed such that lower indexes correspond to more frequently used words.\n",
        "MAX_NB_WORDS = 5000 # only more frequently used words will be kept\n",
        "\n",
        "# Create tokenizer and set the number of features we want.\n",
        "# The Tokenizer stores everything in the word_index during fit_on_texts. \n",
        "# Then, when calling the texts_to_sequences method, only the top num_words are considered.\n",
        "tokenizer = Tokenizer(num_words=MAX_NB_WORDS)\n",
        "\n",
        "print('Fitting tokenizer...')\n",
        "# Train tokenizer\n",
        "tokenizer.fit_on_texts(reviews)\n",
        "# Review sequence represents each word as a number.\n",
        "# Unknown words or words that are not frequently used are ingored.\n",
        "reviews_seq = tokenizer.texts_to_sequences(reviews)\n",
        "# get vocabluary, which will be used for converting sequence back to review.\n",
        "dictionary = tokenizer.word_index   \n",
        "# cut vocabluary to frequently used words.\n",
        "dictionary = dict(list(dictionary.items())[:MAX_NB_WORDS])\n",
        "\n",
        "print('Vocabulary: {} words.'.format(len(dictionary)))"
      ],
      "execution_count": 5,
      "outputs": [
        {
          "output_type": "stream",
          "text": [
            "Fitting tokenizer...\n",
            "Vocabulary: 5000 words.\n"
          ],
          "name": "stdout"
        }
      ]
    },
    {
      "metadata": {
        "id": "6ImXmXVgGCTi",
        "colab_type": "code",
        "colab": {
          "autoexec": {
            "startup": false,
            "wait_interval": 0
          },
          "output_extras": [
            {
              "item_id": 1
            }
          ],
          "base_uri": "https://localhost:8080/",
          "height": 123
        },
        "outputId": "897e4883-eb93-45b5-e04a-dc21e9cbd4a8",
        "executionInfo": {
          "status": "ok",
          "timestamp": 1522470387652,
          "user_tz": -180,
          "elapsed": 481,
          "user": {
            "displayName": "Alex Z",
            "photoUrl": "https://lh3.googleusercontent.com/a/default-user=s128",
            "userId": "110711877726297594950"
          }
        }
      },
      "cell_type": "code",
      "source": [
        "# Transform sequence from numbers to words.\n",
        "def sequence_to_text(sequence, dictionary): \n",
        "  text = ''\n",
        "  for index in sequence:\n",
        "    for word, num in dictionary.items():\n",
        "      if num == index:\n",
        "        text = text + ' ' + word\n",
        "        break\n",
        "  return text\n",
        "\n",
        "print('Sequence:')\n",
        "print(reviews_seq[0])\n",
        "\n",
        "print('\\nReview:')\n",
        "print(sequence_to_text(reviews_seq[0], dictionary))"
      ],
      "execution_count": 6,
      "outputs": [
        {
          "output_type": "stream",
          "text": [
            "Sequence:\n",
            "[656, 25, 1168, 1, 283, 9, 1566, 10, 16, 12, 83, 9, 234, 3, 641, 325, 4, 87, 3846, 35, 403, 4422, 233, 27, 630, 296, 1, 48, 218, 9, 460, 5, 62, 86, 13, 7, 3, 278, 213, 40, 4, 3424, 1, 110, 391, 80, 2733, 67, 7, 3, 2929, 25, 1450, 3, 1976, 3, 438, 205, 503, 3, 400, 29, 1458, 158, 27, 6, 15, 1, 113, 37, 247, 1, 326, 4, 3, 2384, 34, 79, 449, 295, 7, 1, 235, 1, 96, 12, 160, 36, 9, 861, 8, 12, 1158, 9, 1788, 1, 126, 42, 21, 209, 8, 1420, 117, 133, 2, 45, 69, 33, 105, 1822, 515, 687, 8, 12, 2, 89, 119, 281, 421, 8, 12, 3, 2743, 16, 2, 421, 1, 1961, 76, 138, 4828, 17, 221, 50, 5, 3, 16, 70, 11, 10, 18, 883, 13, 42, 8, 153, 24, 1, 54, 5, 138, 81, 1553, 38, 794, 15, 8, 2, 384, 8, 1, 112, 61, 89, 52, 14, 8, 608, 12, 179, 1142, 13, 1, 2304, 962, 89, 2342, 307, 13, 827, 13, 58, 97, 75, 58, 759, 67, 1, 87, 2, 12, 1394, 1090, 13, 31, 5, 1, 235, 42, 60, 1, 226, 114, 1434, 5, 1, 149]\n",
            "\n",
            "Review:\n",
            " i'll be honest the reason i rented this movie was because i am a huge fan of most notably from early edition since he usually plays the good guy i wanted to see him as in a different role out of curiosity the plot itself also drew me in a wanna be tony a k a mr must kill a person at random before he is with the life or rather the death of a witness who will against someone in the family the movies was nothing like i expected it was sick i hated the end if you saw it you'd know why and there were so many unnecessary parts basically it was and made little sense yes it was a mob movie and yes the guns do go boom but there's more to a movie than that this film acted as if it didn't have the time to go into detail just deal with it and understand it the acting really made up for it james was pretty amusing as the rose lee made angel seem as believable as she could get she surprised me the most and was equally convincing as an to the family if only the script did justice to the actors\n"
          ],
          "name": "stdout"
        }
      ]
    },
    {
      "metadata": {
        "id": "u4aX61gZ9xPX",
        "colab_type": "text"
      },
      "cell_type": "markdown",
      "source": [
        "The next step is to make all of the reviews sequence the same length."
      ]
    },
    {
      "metadata": {
        "id": "z0K5bRuRxLc3",
        "colab_type": "code",
        "colab": {
          "autoexec": {
            "startup": false,
            "wait_interval": 0
          },
          "output_extras": [
            {
              "item_id": 2
            }
          ],
          "base_uri": "https://localhost:8080/",
          "height": 570
        },
        "outputId": "3141ad91-6074-431a-e4a2-aba94fd58446",
        "executionInfo": {
          "status": "ok",
          "timestamp": 1522470474308,
          "user_tz": -180,
          "elapsed": 1622,
          "user": {
            "displayName": "Alex Z",
            "photoUrl": "https://lh3.googleusercontent.com/a/default-user=s128",
            "userId": "110711877726297594950"
          }
        }
      },
      "cell_type": "code",
      "source": [
        "import numpy as np\n",
        "# Set max review length as 90 percentile of all sequences length.\n",
        "MAX_SEQUENCE_LENGTH = int(round(np.percentile([len(i) for i in reviews_seq], 90)))\n",
        "print('Max sequence length: {} words.'.format(MAX_SEQUENCE_LENGTH))\n",
        "\n",
        "# Padding all text to same size, longer sequences are reduced to max legth.\n",
        "reviews_vectors = pad_sequences(reviews_seq, maxlen=MAX_SEQUENCE_LENGTH)\n",
        "\n",
        "print('\\nPadded Sequence:')\n",
        "print(reviews_vectors[0])"
      ],
      "execution_count": 7,
      "outputs": [
        {
          "output_type": "stream",
          "text": [
            "Max sequence length: 400 words.\n",
            "\n",
            "Padded Sequence:\n",
            "[   0    0    0    0    0    0    0    0    0    0    0    0    0    0\n",
            "    0    0    0    0    0    0    0    0    0    0    0    0    0    0\n",
            "    0    0    0    0    0    0    0    0    0    0    0    0    0    0\n",
            "    0    0    0    0    0    0    0    0    0    0    0    0    0    0\n",
            "    0    0    0    0    0    0    0    0    0    0    0    0    0    0\n",
            "    0    0    0    0    0    0    0    0    0    0    0    0    0    0\n",
            "    0    0    0    0    0    0    0    0    0    0    0    0    0    0\n",
            "    0    0    0    0    0    0    0    0    0    0    0    0    0    0\n",
            "    0    0    0    0    0    0    0    0    0    0    0    0    0    0\n",
            "    0    0    0    0    0    0    0    0    0    0    0    0    0    0\n",
            "    0    0    0    0    0    0    0    0    0    0    0    0    0    0\n",
            "    0    0    0    0    0    0    0    0    0    0    0    0    0    0\n",
            "    0    0    0    0    0    0    0    0    0    0    0    0    0    0\n",
            "    0    0    0    0    0    0    0    0    0    0    0  656   25 1168\n",
            "    1  283    9 1566   10   16   12   83    9  234    3  641  325    4\n",
            "   87 3846   35  403 4422  233   27  630  296    1   48  218    9  460\n",
            "    5   62   86   13    7    3  278  213   40    4 3424    1  110  391\n",
            "   80 2733   67    7    3 2929   25 1450    3 1976    3  438  205  503\n",
            "    3  400   29 1458  158   27    6   15    1  113   37  247    1  326\n",
            "    4    3 2384   34   79  449  295    7    1  235    1   96   12  160\n",
            "   36    9  861    8   12 1158    9 1788    1  126   42   21  209    8\n",
            " 1420  117  133    2   45   69   33  105 1822  515  687    8   12    2\n",
            "   89  119  281  421    8   12    3 2743   16    2  421    1 1961   76\n",
            "  138 4828   17  221   50    5    3   16   70   11   10   18  883   13\n",
            "   42    8  153   24    1   54    5  138   81 1553   38  794   15    8\n",
            "    2  384    8    1  112   61   89   52   14    8  608   12  179 1142\n",
            "   13    1 2304  962   89 2342  307   13  827   13   58   97   75   58\n",
            "  759   67    1   87    2   12 1394 1090   13   31    5    1  235   42\n",
            "   60    1  226  114 1434    5    1  149]\n"
          ],
          "name": "stdout"
        }
      ]
    },
    {
      "metadata": {
        "id": "1fVwRbBBympd",
        "colab_type": "text"
      },
      "cell_type": "markdown",
      "source": [
        "Transform feedbacks to one-hot vectors. A one hot encoding is a representation of categorical variables as binary vectors.\n",
        "\n",
        "This first requires that the categorical values be mapped to integer values."
      ]
    },
    {
      "metadata": {
        "id": "5-d_Wv7gyTlp",
        "colab_type": "code",
        "colab": {
          "autoexec": {
            "startup": false,
            "wait_interval": 0
          },
          "output_extras": [
            {
              "item_id": 1
            }
          ],
          "base_uri": "https://localhost:8080/",
          "height": 52
        },
        "cellView": "code",
        "outputId": "d40ffeb4-49d7-4912-c130-4047f16c6779",
        "executionInfo": {
          "status": "ok",
          "timestamp": 1522470496935,
          "user_tz": -180,
          "elapsed": 473,
          "user": {
            "displayName": "Alex Z",
            "photoUrl": "https://lh3.googleusercontent.com/a/default-user=s128",
            "userId": "110711877726297594950"
          }
        }
      },
      "cell_type": "code",
      "source": [
        "feedback = reviews_df['feedback']\n",
        "\n",
        "# Convert features to integers.\n",
        "from sklearn.preprocessing import LabelEncoder\n",
        "label_encoder = LabelEncoder()\n",
        "labels = label_encoder.fit_transform(feedback)\n",
        "\n",
        "# Converts a class vector (integers) to binary class matrix.\n",
        "feedback_vectors = to_categorical(labels)\n",
        "\n",
        "print('Shape of reviews tensor:', reviews_vectors.shape)\n",
        "print('Shape of feedbacks tensor:', feedback_vectors.shape)"
      ],
      "execution_count": 8,
      "outputs": [
        {
          "output_type": "stream",
          "text": [
            "Shape of reviews tensor: (50000, 400)\n",
            "Shape of feedbacks tensor: (50000, 2)\n"
          ],
          "name": "stdout"
        }
      ]
    },
    {
      "metadata": {
        "id": "Z-wu4vmNA1n3",
        "colab_type": "code",
        "colab": {
          "autoexec": {
            "startup": false,
            "wait_interval": 0
          },
          "output_extras": [
            {
              "item_id": 1
            },
            {
              "item_id": 2
            }
          ],
          "base_uri": "https://localhost:8080/",
          "height": 106
        },
        "outputId": "44826795-4abc-41a8-d2d9-ba86f280c5c5",
        "executionInfo": {
          "status": "ok",
          "timestamp": 1522470646415,
          "user_tz": -180,
          "elapsed": 460,
          "user": {
            "displayName": "Alex Z",
            "photoUrl": "https://lh3.googleusercontent.com/a/default-user=s128",
            "userId": "110711877726297594950"
          }
        }
      },
      "cell_type": "code",
      "source": [
        "from numpy import argmax\n",
        "# Transform one-hot vetor to label.\n",
        "def onehot_to_text(onehot, encoder): \n",
        "  return encoder.inverse_transform(argmax(onehot))\n",
        "\n",
        "print('One Hot vector: {}'.format(feedback_vectors[0]) )\n",
        "print('Feedback: {}'.format(onehot_to_text(feedback_vectors[0], label_encoder) ))"
      ],
      "execution_count": 9,
      "outputs": [
        {
          "output_type": "stream",
          "text": [
            "One Hot vector: [1. 0.]\n",
            "Feedback: negative\n"
          ],
          "name": "stdout"
        },
        {
          "output_type": "stream",
          "text": [
            "/usr/local/lib/python3.6/dist-packages/sklearn/preprocessing/label.py:151: DeprecationWarning: The truth value of an empty array is ambiguous. Returning False, but in future this will result in an error. Use `array.size > 0` to check that an array is not empty.\n",
            "  if diff:\n"
          ],
          "name": "stderr"
        }
      ]
    },
    {
      "metadata": {
        "id": "VZTf08S6MNWr",
        "colab_type": "text"
      },
      "cell_type": "markdown",
      "source": [
        "### Export result to dataset file\n",
        "Serialize object and put it to compressed numpy array."
      ]
    },
    {
      "metadata": {
        "id": "1cqFRQwQiZf5",
        "colab_type": "code",
        "colab": {
          "autoexec": {
            "startup": false,
            "wait_interval": 0
          },
          "output_extras": [
            {
              "item_id": 1
            }
          ],
          "base_uri": "https://localhost:8080/",
          "height": 121
        },
        "outputId": "fe0fc4e4-bf00-471e-c4d4-f52a2e25dc6e",
        "executionInfo": {
          "status": "ok",
          "timestamp": 1522470667466,
          "user_tz": -180,
          "elapsed": 6161,
          "user": {
            "displayName": "Alex Z",
            "photoUrl": "https://lh3.googleusercontent.com/a/default-user=s128",
            "userId": "110711877726297594950"
          }
        }
      },
      "cell_type": "code",
      "source": [
        "# Export data to compressed numpy array\n",
        "np.savez_compressed('input/dataset.npz', dictionary=dictionary, reviews_vectors=reviews_vectors, \n",
        "                label_encoder=label_encoder, feedback_vectors=feedback_vectors)\n",
        "!ls -la input"
      ],
      "execution_count": 10,
      "outputs": [
        {
          "output_type": "stream",
          "text": [
            "total 34888\r\n",
            "drwxr-xr-x 3 root root     4096 Mar 31 04:31 .\r\n",
            "drwxr-xr-x 4 root root     4096 Mar 31 04:11 ..\r\n",
            "drwxr-xr-x 4 7297 1000     4096 Jun 26  2011 aclImdb\r\n",
            "-rw-r--r-- 1 root root 16338527 Mar 31 04:31 dataset.npz\r\n",
            "-rw-r--r-- 1 root root 19372026 Mar 31 04:08 reviews.tsv.bz2\r\n"
          ],
          "name": "stdout"
        }
      ]
    },
    {
      "metadata": {
        "id": "R1qt-FhknGPK",
        "colab_type": "text"
      },
      "cell_type": "markdown",
      "source": [
        "### Downloading files to your local file system\n",
        "\n",
        "It will invoke a browser download of the file to your local computer."
      ]
    },
    {
      "metadata": {
        "id": "vOWD80y7nGPM",
        "colab_type": "code",
        "colab": {
          "autoexec": {
            "startup": false,
            "wait_interval": 0
          }
        }
      },
      "cell_type": "code",
      "source": [
        "from google.colab import files\n",
        "# Download file\n",
        "files.download('input/dataset.npz')"
      ],
      "execution_count": 0,
      "outputs": []
    }
  ]
}