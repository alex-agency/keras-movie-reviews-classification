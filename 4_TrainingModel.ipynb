{
  "nbformat": 4,
  "nbformat_minor": 0,
  "metadata": {
    "colab": {
      "name": "4-TrainingModel.ipynb",
      "version": "0.3.2",
      "views": {},
      "default_view": {},
      "provenance": []
    },
    "kernelspec": {
      "name": "python3",
      "display_name": "Python 3"
    },
    "accelerator": "GPU"
  },
  "cells": [
    {
      "metadata": {
        "id": "FKzMHcgmtaiG",
        "colab_type": "text"
      },
      "cell_type": "markdown",
      "source": [
        "## Training Network\n",
        "\n",
        "In supervised training, the network processes inputs and compares its resulting outputs against the desired outputs. \n",
        "\n",
        "Errors are propagated back through the system, causing the system to adjust the weights which control the network. This is done using the Backpropagation algorithm, also called backprop. This process occurs over and over as the weights are continually tweaked. \n",
        "\n",
        "The set of data which enables the training is called the \"training set.\" \n",
        "\n",
        "During the training of a network the same set of data is processed many times as the connection weights are ever refined. Iteratively passing batches of data through the network and updating the weights, so that the error is decreased, is known as Stochastic Gradient Descent (SGD). \n",
        "\n",
        "Training refers to determining the best set of weights for maximizing a neural network’s accuracy. \n",
        "\n",
        "The amount by which the weights are changed is determined by a parameter called Learning rate.\n",
        "\n",
        "Neural networks can be used without knowing precisely how training works. Most modern machine learning libraries have greatly automated the training process."
      ]
    },
    {
      "metadata": {
        "id": "CWMueMZZDehi",
        "colab_type": "text"
      },
      "cell_type": "markdown",
      "source": [
        "### NOTE:\n",
        "Basicaly this notebook prepared to use within **Google Colab**: https://colab.research.google.com/. \n",
        "\n",
        "The Google Colabatory has **free Tesla K80 GPU** and already prepared to develop deep learning applications.\n",
        "\n",
        "First time opens this notebook, do not forget to enable **Python 3** runtime and **GPU** accelerator in Google Colab **Notebook Settings**. \n"
      ]
    },
    {
      "metadata": {
        "id": "nzTTLgFtfq5o",
        "colab_type": "text"
      },
      "cell_type": "markdown",
      "source": [
        "### Setup Project\n",
        "Create workspace and change directory.\n"
      ]
    },
    {
      "metadata": {
        "id": "-PGvIffmfq5u",
        "colab_type": "code",
        "colab": {
          "autoexec": {
            "startup": false,
            "wait_interval": 0
          },
          "base_uri": "https://localhost:8080/",
          "height": 34
        },
        "outputId": "7218b211-d2eb-4799-ae23-735b428ad792",
        "executionInfo": {
          "status": "ok",
          "timestamp": 1524429434718,
          "user_tz": -180,
          "elapsed": 1927,
          "user": {
            "displayName": "Alex Z",
            "photoUrl": "https://lh3.googleusercontent.com/a/default-user=s128",
            "userId": "110711877726297594950"
          }
        }
      },
      "cell_type": "code",
      "source": [
        "PROJECT_HOME = '/content/keras-movie-reviews-classification'\n",
        "\n",
        "import os.path\n",
        "if not os.path.exists(PROJECT_HOME):\n",
        "  os.makedirs(PROJECT_HOME)\n",
        "os.chdir(PROJECT_HOME)\n",
        "\n",
        "!pwd"
      ],
      "execution_count": 1,
      "outputs": [
        {
          "output_type": "stream",
          "text": [
            "/content/keras-movie-reviews-classification\r\n"
          ],
          "name": "stdout"
        }
      ]
    },
    {
      "metadata": {
        "id": "e9fTIbvuGvMU",
        "colab_type": "text"
      },
      "cell_type": "markdown",
      "source": [
        "### Import Project\n",
        "Import GitHub project to workspace."
      ]
    },
    {
      "metadata": {
        "id": "ZSe5_mzWl8ma",
        "colab_type": "code",
        "colab": {
          "autoexec": {
            "startup": false,
            "wait_interval": 0
          },
          "base_uri": "https://localhost:8080/",
          "height": 276
        },
        "outputId": "c1ebb225-ea06-4f7a-bd03-2c4ec903660c",
        "executionInfo": {
          "status": "ok",
          "timestamp": 1524429452682,
          "user_tz": -180,
          "elapsed": 11001,
          "user": {
            "displayName": "Alex Z",
            "photoUrl": "https://lh3.googleusercontent.com/a/default-user=s128",
            "userId": "110711877726297594950"
          }
        }
      },
      "cell_type": "code",
      "source": [
        "# Import project and override existing data.\n",
        "!git init .\n",
        "!git remote add -t \\* -f origin https://github.com/alex-agency/keras-movie-reviews-classification.git\n",
        "!git reset --hard origin/master\n",
        "!git checkout\n",
        "\n",
        "!ls -la input"
      ],
      "execution_count": 2,
      "outputs": [
        {
          "output_type": "stream",
          "text": [
            "Initialized empty Git repository in /content/keras-movie-reviews-classification/.git/\n",
            "Updating origin\n",
            "remote: Counting objects: 27, done.\u001b[K\n",
            "remote: Compressing objects: 100% (22/22), done.\u001b[K\n",
            "remote: Total 27 (delta 8), reused 18 (delta 3), pack-reused 0\u001b[K\n",
            "Unpacking objects: 100% (27/27), done.\n",
            "From https://github.com/alex-agency/keras-movie-reviews-classification\n",
            " * [new branch]      master     -> origin/master\n",
            "HEAD is now at 3ed38b6 step3-choosing-model-mlps\n",
            "total 36044\n",
            "drwxr-xr-x 2 root root     4096 Apr 22 20:37 .\n",
            "drwxr-xr-x 4 root root     4096 Apr 22 20:37 ..\n",
            "-rw-r--r-- 1 root root 17163254 Apr 22 20:37 dataset.npz\n",
            "-rw-r--r-- 1 root root   360416 Apr 22 20:37 mlps-model-definition.h5\n",
            "-rw-r--r-- 1 root root 19372046 Apr 22 20:37 reviews.tsv.bz2\n"
          ],
          "name": "stdout"
        }
      ]
    },
    {
      "metadata": {
        "id": "Y-YXXsj-A_28",
        "colab_type": "text"
      },
      "cell_type": "markdown",
      "source": [
        "### Keras\n",
        "Keras is a high-level API, written in Python and capable of running on top of TensorFlow, Theano, or CNTK deep learning frameworks.\n",
        "Keras provides a simple and modular API to create and train Neural Networks, hiding most of the complicated details under the hood.\n",
        "By default, Keras is configured to use Tensorflow as the backend since it is the most popular choice.\n",
        "Keras is becoming super popular recently because of its simplicity.\n",
        "### Keras workflow\n",
        "<img src=\"https://www.learnopencv.com/wp-content/uploads/2017/09/keras-workflow.jpg\" width=\"700px\">"
      ]
    },
    {
      "metadata": {
        "id": "rcQa7qPNwxdp",
        "colab_type": "code",
        "colab": {
          "autoexec": {
            "startup": false,
            "wait_interval": 0
          },
          "base_uri": "https://localhost:8080/",
          "height": 34
        },
        "outputId": "fbefc7e1-fd85-43ff-a578-9810273fdf76",
        "executionInfo": {
          "status": "ok",
          "timestamp": 1524429465292,
          "user_tz": -180,
          "elapsed": 6879,
          "user": {
            "displayName": "Alex Z",
            "photoUrl": "https://lh3.googleusercontent.com/a/default-user=s128",
            "userId": "110711877726297594950"
          }
        }
      },
      "cell_type": "code",
      "source": [
        "# Load Keras libraries\n",
        "from keras.models import load_model\n",
        "from keras import callbacks"
      ],
      "execution_count": 3,
      "outputs": [
        {
          "output_type": "stream",
          "text": [
            "Using TensorFlow backend.\n"
          ],
          "name": "stderr"
        }
      ]
    },
    {
      "metadata": {
        "id": "zTjJ7YfKf4CF",
        "colab_type": "text"
      },
      "cell_type": "markdown",
      "source": [
        "### Load model and dataset\n",
        "Loading model definition from HDF5 file.\n"
      ]
    },
    {
      "metadata": {
        "id": "UUWulpxTfyxV",
        "colab_type": "code",
        "colab": {
          "autoexec": {
            "startup": false,
            "wait_interval": 0
          },
          "base_uri": "https://localhost:8080/",
          "height": 400
        },
        "outputId": "ada19f87-90e7-4871-95c2-e7f1ed15a192",
        "executionInfo": {
          "status": "ok",
          "timestamp": 1524429469120,
          "user_tz": -180,
          "elapsed": 1745,
          "user": {
            "displayName": "Alex Z",
            "photoUrl": "https://lh3.googleusercontent.com/a/default-user=s128",
            "userId": "110711877726297594950"
          }
        }
      },
      "cell_type": "code",
      "source": [
        "import numpy as np\n",
        "# Load data from numpy array\n",
        "loaded = np.load('input/dataset.npz')\n",
        "\n",
        "(X_train, Y_train), (X_test, Y_test) = loaded['dataset']\n",
        "\n",
        "# Load model from HDF5 file.\n",
        "model = load_model('input/mlps-model-definition.h5') # model with MLP network\n",
        "\n",
        "print(\"Model Summary\")\n",
        "print(model.summary())"
      ],
      "execution_count": 4,
      "outputs": [
        {
          "output_type": "stream",
          "text": [
            "Model Summary\n",
            "_________________________________________________________________\n",
            "Layer (type)                 Output Shape              Param #   \n",
            "=================================================================\n",
            "embedding_1 (Embedding)      (None, 400, 1)            5000      \n",
            "_________________________________________________________________\n",
            "flatten_1 (Flatten)          (None, 400)               0         \n",
            "_________________________________________________________________\n",
            "dense_1 (Dense)              (None, 200)               80200     \n",
            "_________________________________________________________________\n",
            "dropout_1 (Dropout)          (None, 200)               0         \n",
            "_________________________________________________________________\n",
            "dense_2 (Dense)              (None, 2)                 402       \n",
            "=================================================================\n",
            "Total params: 85,602\n",
            "Trainable params: 85,602\n",
            "Non-trainable params: 0\n",
            "_________________________________________________________________\n",
            "None\n"
          ],
          "name": "stdout"
        },
        {
          "output_type": "stream",
          "text": [
            "/usr/local/lib/python3.6/dist-packages/keras/models.py:255: UserWarning: No training configuration found in save file: the model was *not* compiled. Compile it manually.\n",
            "  warnings.warn('No training configuration found in save file: '\n"
          ],
          "name": "stderr"
        }
      ]
    },
    {
      "metadata": {
        "id": "GgdnsbPMdJUP",
        "colab_type": "text"
      },
      "cell_type": "markdown",
      "source": [
        "### Configuring the training process\n",
        "Once the model is ready, we need to configure the learning process.\n",
        "\n",
        "Compile the model means that Keras will generate a computation graph in TensorFlow.\n",
        "\n",
        "### Loss functions\n",
        "In a supervised learning problem, we have to find the error between the actual values and the predicted value. There can be different metrics which can be used to evaluate this error. This metric is often called loss function or cost function or objective function. There can be more than one loss function depending on what you are doing with the error. In general, we use:\n",
        "\n",
        "* binary-cross-entropy for a binary classification problem\n",
        "* categorical-cross-entropy for a multi-class classification problem\n",
        "* mean-squared-error for a regression problem and so on\n",
        "\n",
        "### Optimizers\n",
        "An Optimizer determines how the network weights are updated.\n",
        "\n",
        "Keras provides a lot of optimizers to choose from.\n",
        "RMSprop and Adam is a good choice of optimizer for most problems.\n",
        "\n",
        "### Overfitting\n",
        "Overfitting describes the situation in which your model is over-optimized to accurately predict the training set, at the expense of generalizing to unknown data (which is the objective of learning in the first place). This can happen because the model greatly twists itself to perfectly conform to the training set, even capturing its underlying noise.\n",
        "\n",
        "How can we avoid overfitting? The simplest solution is to split our dataset into a training set and a test set. The training set is used for the optimization procedure, but we evaluate the accuracy of our model by forwarding the test set to the trained model and measuring its accuracy.\n",
        "\n",
        "During training, we can monitor the accuracy of the model on the training set and test set. The longer we train, the more likely our training accuracy is to go higher and higher, but at some point, it is likely the test set will stop improving. This is a cue to stop training at that point. We should generally expect that training accuracy is higher than test accuracy, but if it is much higher, that is a clue that we have overfit."
      ]
    },
    {
      "metadata": {
        "id": "db9xUrCn6AD_",
        "colab_type": "code",
        "colab": {
          "autoexec": {
            "startup": false,
            "wait_interval": 0
          },
          "base_uri": "https://localhost:8080/",
          "height": 155
        },
        "outputId": "eff16efc-34ef-460c-de91-23c05f361488",
        "executionInfo": {
          "status": "ok",
          "timestamp": 1524429555966,
          "user_tz": -180,
          "elapsed": 74296,
          "user": {
            "displayName": "Alex Z",
            "photoUrl": "https://lh3.googleusercontent.com/a/default-user=s128",
            "userId": "110711877726297594950"
          }
        }
      },
      "cell_type": "code",
      "source": [
        "# Compile model\n",
        "model.compile(loss='binary_crossentropy', # cross-entropy loss function for binary classification\n",
        "              optimizer='adam', # Adam optimiser one of the most popular optimization method\n",
        "              metrics=['accuracy']) # print the accuracy during training\n",
        "\n",
        "# Early stopping callback\n",
        "# Stop training when a monitored quantity has stopped improving.\n",
        "# Using held-out validation set, to determine when to terminate the training process to avoid overfitting.\n",
        "early_stopping = callbacks.EarlyStopping(monitor='val_loss', # quantity to be monitored\n",
        "                                         min_delta=0, # minimum change in the monitored quantity to qualify as an improvement\n",
        "                                         patience=2, # number of epochs with no improvement after which training will be stopped \n",
        "                                         verbose=1, mode='auto')\n",
        "# Train model\n",
        "history = model.fit(X_train, Y_train, # train the model using the training set\n",
        "                    batch_size=8, # in each iteration, use size of training examples at once\n",
        "                    epochs=20, # iterate amount of times over the entire training set\n",
        "                    callbacks=[early_stopping], # called after each epoch\n",
        "                    validation_split=0.2, # use 20% of the data for validation\n",
        "                    verbose=2) # enables detailed logs, where 2 is print some information after each epoch "
      ],
      "execution_count": 5,
      "outputs": [
        {
          "output_type": "stream",
          "text": [
            "Train on 32000 samples, validate on 8000 samples\n",
            "Epoch 1/20\n",
            " - 25s - loss: 0.3563 - acc: 0.8333 - val_loss: 0.2842 - val_acc: 0.8824\n",
            "Epoch 2/20\n",
            " - 24s - loss: 0.2389 - acc: 0.9042 - val_loss: 0.2868 - val_acc: 0.8796\n",
            "Epoch 3/20\n",
            " - 24s - loss: 0.2105 - acc: 0.9167 - val_loss: 0.3067 - val_acc: 0.8801\n",
            "Epoch 00003: early stopping\n"
          ],
          "name": "stdout"
        }
      ]
    },
    {
      "metadata": {
        "id": "EQ9Ba6NVLFJD",
        "colab_type": "code",
        "colab": {
          "autoexec": {
            "startup": false,
            "wait_interval": 0
          },
          "base_uri": "https://localhost:8080/",
          "height": 52
        },
        "outputId": "6c4cc058-5fa3-4015-ecb2-7cc603d4cc3a",
        "executionInfo": {
          "status": "ok",
          "timestamp": 1524429557286,
          "user_tz": -180,
          "elapsed": 1265,
          "user": {
            "displayName": "Alex Z",
            "photoUrl": "https://lh3.googleusercontent.com/a/default-user=s128",
            "userId": "110711877726297594950"
          }
        }
      },
      "cell_type": "code",
      "source": [
        "# Evaluate model\n",
        "score = model.evaluate(X_test, Y_test, verbose=0) # evaluate the trained model on the test set\n",
        "\n",
        "print('Test loss:', score[0])\n",
        "print('Test accuracy:', score[1])"
      ],
      "execution_count": 6,
      "outputs": [
        {
          "output_type": "stream",
          "text": [
            "Test loss: 0.29445332052707673\n",
            "Test accuracy: 0.88235\n"
          ],
          "name": "stdout"
        }
      ]
    },
    {
      "metadata": {
        "id": "2dL8Uv3-6h89",
        "colab_type": "code",
        "colab": {
          "autoexec": {
            "startup": false,
            "wait_interval": 0
          },
          "base_uri": "https://localhost:8080/",
          "height": 376
        },
        "outputId": "3df6ffea-826f-437e-dc01-09d0d157b298",
        "executionInfo": {
          "status": "ok",
          "timestamp": 1524429560036,
          "user_tz": -180,
          "elapsed": 873,
          "user": {
            "displayName": "Alex Z",
            "photoUrl": "https://lh3.googleusercontent.com/a/default-user=s128",
            "userId": "110711877726297594950"
          }
        }
      },
      "cell_type": "code",
      "source": [
        "import matplotlib.pyplot as plt\n",
        "\n",
        "# Plot the loss over each epochs.\n",
        "plt.plot(history.history['loss'], label='training')\n",
        "plt.plot(history.history['val_loss'], label='validation')\n",
        "plt.legend()\n",
        "plt.title('model loss')\n",
        "plt.ylabel('loss')\n",
        "plt.xlabel('epoch')\n",
        "plt.show()"
      ],
      "execution_count": 7,
      "outputs": [
        {
          "output_type": "display_data",
          "data": {
            "image/png": "[encoded data removed]",
            "text/plain": [
              "<matplotlib.figure.Figure at 0x7fec02c21860>"
            ]
          },
          "metadata": {
            "tags": []
          }
        }
      ]
    },
    {
      "metadata": {
        "id": "JhXOwleDjFDb",
        "colab_type": "code",
        "colab": {
          "autoexec": {
            "startup": false,
            "wait_interval": 0
          },
          "base_uri": "https://localhost:8080/",
          "height": 376
        },
        "outputId": "ae6355cc-b16c-4fdb-8c11-16d18f195677",
        "executionInfo": {
          "status": "ok",
          "timestamp": 1524429561682,
          "user_tz": -180,
          "elapsed": 524,
          "user": {
            "displayName": "Alex Z",
            "photoUrl": "https://lh3.googleusercontent.com/a/default-user=s128",
            "userId": "110711877726297594950"
          }
        }
      },
      "cell_type": "code",
      "source": [
        "# Plot the accuracy evaluated on the training set.\n",
        "plt.plot(history.history['acc'], label='training');\n",
        "plt.plot(history.history['val_acc'], label='validation');\n",
        "plt.legend()\n",
        "plt.title('model accuracy')\n",
        "plt.ylabel('accuracy')\n",
        "plt.xlabel('epoch')\n",
        "plt.show()"
      ],
      "execution_count": 8,
      "outputs": [
        {
          "output_type": "display_data",
          "data": {
            "image/png": "[encoded data removed]",
            "text/plain": [
              "<matplotlib.figure.Figure at 0x7fec02c16cf8>"
            ]
          },
          "metadata": {
            "tags": []
          }
        }
      ]
    },
    {
      "metadata": {
        "id": "NbVwxryR07LL",
        "colab_type": "text"
      },
      "cell_type": "markdown",
      "source": [
        "### Export trained model to file\n",
        "Saving whole Keras model into a single HDF5 file which will contain:\n",
        "* the architecture of the model, allowing to re-create the model\n",
        "* the weights of the model\n",
        "* the training configuration (loss, optimizer)\n",
        "* the state of the optimizer, allowing to resume training exactly where you left off.\n"
      ]
    },
    {
      "metadata": {
        "id": "XjcfkeOa07LN",
        "colab_type": "code",
        "colab": {
          "autoexec": {
            "startup": false,
            "wait_interval": 0
          },
          "base_uri": "https://localhost:8080/",
          "height": 86
        },
        "outputId": "3c90a8e5-9713-489e-847c-c8da878567b0",
        "executionInfo": {
          "status": "ok",
          "timestamp": 1524429563657,
          "user_tz": -180,
          "elapsed": 1446,
          "user": {
            "displayName": "Alex Z",
            "photoUrl": "https://lh3.googleusercontent.com/a/default-user=s128",
            "userId": "110711877726297594950"
          }
        }
      },
      "cell_type": "code",
      "source": [
        "# Model filename\n",
        "model_filename = 'mlps-model.h5'\n",
        "\n",
        "# Create output directory\n",
        "output_dir = 'output'\n",
        "if not os.path.exists(output_dir):\n",
        "  os.makedirs(output_dir)\n",
        "  \n",
        "model_file = os.path.join(output_dir, model_filename)\n",
        "\n",
        "# Export model into HDF5 file.\n",
        "model.save(model_file)\n",
        "\n",
        "!ls -la output"
      ],
      "execution_count": 9,
      "outputs": [
        {
          "output_type": "stream",
          "text": [
            "total 1040\r\n",
            "drwxr-xr-x 2 root root    4096 Apr 22 20:39 .\r\n",
            "drwxr-xr-x 5 root root    4096 Apr 22 20:39 ..\r\n",
            "-rw-r--r-- 1 root root 1055200 Apr 22 20:39 mlps-model.h5\r\n"
          ],
          "name": "stdout"
        }
      ]
    },
    {
      "metadata": {
        "id": "R1qt-FhknGPK",
        "colab_type": "text"
      },
      "cell_type": "markdown",
      "source": [
        "### Downloading file to your local file system\n",
        "\n",
        "It will invoke a browser download of the file to your local computer."
      ]
    },
    {
      "metadata": {
        "id": "vOWD80y7nGPM",
        "colab_type": "code",
        "colab": {
          "autoexec": {
            "startup": false,
            "wait_interval": 0
          }
        }
      },
      "cell_type": "code",
      "source": [
        "from google.colab import files\n",
        "# Download file\n",
        "files.download(model_file)"
      ],
      "execution_count": 0,
      "outputs": []
    }
  ]
}